{
 "cells": [
  {
   "attachments": {},
   "cell_type": "markdown",
   "metadata": {},
   "source": [
    "Creating Parent class"
   ]
  },
  {
   "cell_type": "code",
   "execution_count": 12,
   "metadata": {},
   "outputs": [],
   "source": [
    "import csv\n",
    "\n",
    "class Item:\n",
    "    # class attibutes\n",
    "    flat_discount = 0.1\n",
    "    all = []\n",
    "\n",
    "    def __init__(self, name: str, price: int, quantity: int):\n",
    "\n",
    "        assertion_message = f\"Either the quantity passs {quantity} is <0 or the price passed {price} <=0\"\n",
    "        assert price>=0 or quantity>0, assertion_message     \n",
    "\n",
    "        self.name = name\n",
    "        self.price = price\n",
    "        self.quantity = quantity\n",
    "\n",
    "        Item.all.append(self)\n",
    "\n",
    "    def calculate_total_price(self):\n",
    "        return(self.price*self.quantity)\n",
    "    \n",
    "    def apply_discount(self):\n",
    "        self.price = self.price - self.price * Item.flat_discount\n",
    "    \n",
    "    def __repr__(self):\n",
    "        return f\"Item('{self.name}', {self.price}, {self.quantity})\"\n",
    "    \n",
    "    @classmethod\n",
    "    def update_flat_discount(cls, new_discount):\n",
    "        cls.flat_discount = new_discount\n",
    "\n",
    "    @classmethod\n",
    "    def instanciate_from_csv(cls, path):\n",
    "        with open(path , 'r') as csv_file:\n",
    "            reader = csv.DictReader(csv_file)\n",
    "            items = list(reader)\n",
    "\n",
    "            for item in items:\n",
    "                Item(\n",
    "                    name=str(item[\"name\"]),\n",
    "                    price=int(item['price']),\n",
    "                    quantity=int(item['quantity'])\n",
    "                )\n",
    "    \n",
    "    @staticmethod\n",
    "    def is_integer(number):\n",
    "        if isinstance(number, int): return True\n",
    "        return False"
   ]
  },
  {
   "attachments": {},
   "cell_type": "markdown",
   "metadata": {},
   "source": [
    "Creating a Child class that inherits attributes and methods from the Parent Class"
   ]
  },
  {
   "cell_type": "code",
   "execution_count": 20,
   "metadata": {},
   "outputs": [],
   "source": [
    "class Phone(Item):\n",
    "    def __init__(self, name: str, price: int, quantity: int, storage_size: int):  \n",
    "\n",
    "        super().__init__(name, price, quantity)\n",
    "        \n",
    "        self.storage_size = storage_size\n",
    "\n",
    "        Item.all.append(self)"
   ]
  },
  {
   "cell_type": "code",
   "execution_count": 21,
   "metadata": {},
   "outputs": [],
   "source": [
    "phone1 = Phone(\"iphone\", 1000, 1, 128)"
   ]
  },
  {
   "cell_type": "code",
   "execution_count": 22,
   "metadata": {},
   "outputs": [
    {
     "data": {
      "text/plain": [
       "[Item('iphone', 1000, 1), Item('iphone', 1000, 1)]"
      ]
     },
     "execution_count": 22,
     "metadata": {},
     "output_type": "execute_result"
    }
   ],
   "source": [
    "Item.all"
   ]
  },
  {
   "cell_type": "code",
   "execution_count": null,
   "metadata": {},
   "outputs": [],
   "source": []
  }
 ],
 "metadata": {
  "kernelspec": {
   "display_name": "Python 3",
   "language": "python",
   "name": "python3"
  },
  "language_info": {
   "codemirror_mode": {
    "name": "ipython",
    "version": 3
   },
   "file_extension": ".py",
   "mimetype": "text/x-python",
   "name": "python",
   "nbconvert_exporter": "python",
   "pygments_lexer": "ipython3",
   "version": "3.9.6"
  },
  "orig_nbformat": 4
 },
 "nbformat": 4,
 "nbformat_minor": 2
}
