{
 "cells": [
  {
   "attachments": {},
   "cell_type": "markdown",
   "metadata": {},
   "source": [
    "Creating Parent class"
   ]
  },
  {
   "cell_type": "code",
   "execution_count": 30,
   "metadata": {},
   "outputs": [],
   "source": [
    "import csv\n",
    "\n",
    "class Item:\n",
    "    # class attibutes\n",
    "    flat_discount = 0.1\n",
    "    all = []\n",
    "\n",
    "    def __init__(self, name: str, price: int, quantity: int):\n",
    "\n",
    "        assertion_message = f\"Either the quantity passs {quantity} is <0 or the price passed {price} <=0\"\n",
    "        assert price>=0 or quantity>0, assertion_message     \n",
    "\n",
    "        self.name = name\n",
    "        self.price = price\n",
    "        self.quantity = quantity\n",
    "\n",
    "        Item.all.append(self)\n",
    "\n",
    "    def calculate_total_price(self):\n",
    "        return(self.price*self.quantity)\n",
    "    \n",
    "    def apply_discount(self):\n",
    "        self.price = self.price - self.price * Item.flat_discount\n",
    "    \n",
    "    def __repr__(self):\n",
    "        return f\"{self.__class__.__name__} ('{self.name}', {self.price}, {self.quantity})\"\n",
    "    \n",
    "    @classmethod\n",
    "    def update_flat_discount(cls, new_discount):\n",
    "        cls.flat_discount = new_discount\n",
    "\n",
    "    @classmethod\n",
    "    def instanciate_from_csv(cls, path):\n",
    "        with open(path , 'r') as csv_file:\n",
    "            reader = csv.DictReader(csv_file)\n",
    "            items = list(reader)\n",
    "\n",
    "            for item in items:\n",
    "                Item(\n",
    "                    name=str(item[\"name\"]),\n",
    "                    price=int(item['price']),\n",
    "                    quantity=int(item['quantity'])\n",
    "                )\n",
    "    \n",
    "    @staticmethod\n",
    "    def is_integer(number):\n",
    "        if isinstance(number, int): return True\n",
    "        return False"
   ]
  },
  {
   "attachments": {},
   "cell_type": "markdown",
   "metadata": {},
   "source": [
    "Creating a Child class that inherits attributes and methods from the Parent Class"
   ]
  },
  {
   "cell_type": "code",
   "execution_count": 31,
   "metadata": {},
   "outputs": [],
   "source": [
    "class Phone(Item):\n",
    "    def __init__(self, name: str, price: int, quantity: int, storage_size: int):  \n",
    "\n",
    "        super().__init__(name, price, quantity)\n",
    "        \n",
    "        self.storage_size = storage_size\n",
    "\n",
    "        super().all.append(self)"
   ]
  },
  {
   "cell_type": "code",
   "execution_count": 32,
   "metadata": {},
   "outputs": [],
   "source": [
    "phone1 = Phone(\"iphone\", 1000, 1, 128)"
   ]
  },
  {
   "cell_type": "code",
   "execution_count": 33,
   "metadata": {},
   "outputs": [
    {
     "data": {
      "text/plain": [
       "[Phone ('iphone', 1000, 1), Phone ('iphone', 1000, 1)]"
      ]
     },
     "execution_count": 33,
     "metadata": {},
     "output_type": "execute_result"
    }
   ],
   "source": [
    "Item.all"
   ]
  },
  {
   "attachments": {},
   "cell_type": "markdown",
   "metadata": {},
   "source": [
    "- Encapsulation: restricting direct access to the class variables\n",
    "    - `@property` decorator creates a read-only attribute"
   ]
  },
  {
   "cell_type": "code",
   "execution_count": 43,
   "metadata": {},
   "outputs": [],
   "source": [
    "class Item:\n",
    "    def __init__(self, name):\n",
    "        self._name = name\n",
    "    \n",
    "    ## craeting a read-only attribute of the class\n",
    "    @property\n",
    "    def name(self):\n",
    "        return self._name\n",
    "    "
   ]
  },
  {
   "cell_type": "code",
   "execution_count": 44,
   "metadata": {},
   "outputs": [
    {
     "ename": "AttributeError",
     "evalue": "can't set attribute",
     "output_type": "error",
     "traceback": [
      "\u001b[0;31m---------------------------------------------------------------------------\u001b[0m",
      "\u001b[0;31mAttributeError\u001b[0m                            Traceback (most recent call last)",
      "Cell \u001b[0;32mIn[44], line 3\u001b[0m\n\u001b[1;32m      1\u001b[0m item \u001b[39m=\u001b[39m Item(\u001b[39m\"\u001b[39m\u001b[39mcup\u001b[39m\u001b[39m\"\u001b[39m)\n\u001b[0;32m----> 3\u001b[0m item\u001b[39m.\u001b[39;49mname \u001b[39m=\u001b[39m \u001b[39m\"\u001b[39m\u001b[39mmug\u001b[39m\u001b[39m\"\u001b[39m\n",
      "\u001b[0;31mAttributeError\u001b[0m: can't set attribute"
     ]
    }
   ],
   "source": [
    "item = Item(\"cup\")\n",
    "\n",
    "item.name = \"mug\""
   ]
  },
  {
   "cell_type": "code",
   "execution_count": 45,
   "metadata": {},
   "outputs": [
    {
     "data": {
      "text/plain": [
       "'cup'"
      ]
     },
     "execution_count": 45,
     "metadata": {},
     "output_type": "execute_result"
    }
   ],
   "source": [
    "item._name"
   ]
  },
  {
   "attachments": {},
   "cell_type": "markdown",
   "metadata": {},
   "source": [
    "- the `_name` is still visible outside the class in an instance, to avoid that we can make the attribute into a private attribute using double underscore before the identifier of the attribute"
   ]
  },
  {
   "cell_type": "code",
   "execution_count": 46,
   "metadata": {},
   "outputs": [],
   "source": [
    "class Item:\n",
    "    def __init__(self, name):\n",
    "        self.__name = name\n",
    "    \n",
    "    ## craeting a read-only attribute of the class\n",
    "    @property\n",
    "    def name(self):\n",
    "        return self.__name\n",
    "    "
   ]
  },
  {
   "cell_type": "code",
   "execution_count": 47,
   "metadata": {},
   "outputs": [
    {
     "ename": "AttributeError",
     "evalue": "'Item' object has no attribute '__name'",
     "output_type": "error",
     "traceback": [
      "\u001b[0;31m---------------------------------------------------------------------------\u001b[0m",
      "\u001b[0;31mAttributeError\u001b[0m                            Traceback (most recent call last)",
      "Cell \u001b[0;32mIn[47], line 3\u001b[0m\n\u001b[1;32m      1\u001b[0m item \u001b[39m=\u001b[39m Item(\u001b[39m'\u001b[39m\u001b[39mcup\u001b[39m\u001b[39m'\u001b[39m)\n\u001b[0;32m----> 3\u001b[0m item\u001b[39m.\u001b[39;49m__name\n",
      "\u001b[0;31mAttributeError\u001b[0m: 'Item' object has no attribute '__name'"
     ]
    }
   ],
   "source": [
    "item = Item('cup')\n",
    "\n",
    "item.__name"
   ]
  },
  {
   "attachments": {},
   "cell_type": "markdown",
   "metadata": {},
   "source": [
    "- adding the ability to reset the value of a private read-only property"
   ]
  },
  {
   "cell_type": "code",
   "execution_count": 59,
   "metadata": {},
   "outputs": [],
   "source": [
    "class Item:\n",
    "    def __init__(self, name):\n",
    "        self.__name = name\n",
    "    \n",
    "    ## craeting a read-only attribute of the class\n",
    "    @property\n",
    "    def name(self):\n",
    "        return self.__name\n",
    "    \n",
    "    #resetting the value for name using the private attribute __name\n",
    "    #since the name property return __name\n",
    "    @name.setter\n",
    "    def name(self, new_name):\n",
    "        assert isinstance(new_name, str), \"name should be string\"\n",
    "        self.__name = new_name"
   ]
  },
  {
   "cell_type": "code",
   "execution_count": 60,
   "metadata": {},
   "outputs": [
    {
     "name": "stdout",
     "output_type": "stream",
     "text": [
      "cup\n"
     ]
    },
    {
     "ename": "AssertionError",
     "evalue": "name should be string",
     "output_type": "error",
     "traceback": [
      "\u001b[0;31m---------------------------------------------------------------------------\u001b[0m",
      "\u001b[0;31mAssertionError\u001b[0m                            Traceback (most recent call last)",
      "Cell \u001b[0;32mIn[60], line 7\u001b[0m\n\u001b[1;32m      4\u001b[0m \u001b[39mprint\u001b[39m(item\u001b[39m.\u001b[39mname)\n\u001b[1;32m      6\u001b[0m \u001b[39m#setting new name\u001b[39;00m\n\u001b[0;32m----> 7\u001b[0m item\u001b[39m.\u001b[39;49mname \u001b[39m=\u001b[39m \u001b[39m100\u001b[39m\n\u001b[1;32m      9\u001b[0m \u001b[39mprint\u001b[39m(item\u001b[39m.\u001b[39mname)\n",
      "Cell \u001b[0;32mIn[59], line 14\u001b[0m, in \u001b[0;36mItem.name\u001b[0;34m(self, new_name)\u001b[0m\n\u001b[1;32m     12\u001b[0m \u001b[39m@name\u001b[39m\u001b[39m.\u001b[39msetter\n\u001b[1;32m     13\u001b[0m \u001b[39mdef\u001b[39;00m \u001b[39mname\u001b[39m(\u001b[39mself\u001b[39m, new_name):\n\u001b[0;32m---> 14\u001b[0m     \u001b[39massert\u001b[39;00m \u001b[39misinstance\u001b[39m(new_name, \u001b[39mstr\u001b[39m), \u001b[39m\"\u001b[39m\u001b[39mname should be string\u001b[39m\u001b[39m\"\u001b[39m\n\u001b[1;32m     15\u001b[0m     \u001b[39mself\u001b[39m\u001b[39m.\u001b[39m__name \u001b[39m=\u001b[39m new_name\n",
      "\u001b[0;31mAssertionError\u001b[0m: name should be string"
     ]
    }
   ],
   "source": [
    "item = Item('cup')\n",
    "\n",
    "#getting the name\n",
    "print(item.name)\n",
    "\n",
    "#setting new name\n",
    "item.name = 100\n"
   ]
  },
  {
   "cell_type": "code",
   "execution_count": 62,
   "metadata": {},
   "outputs": [
    {
     "data": {
      "text/plain": [
       "'mug'"
      ]
     },
     "execution_count": 62,
     "metadata": {},
     "output_type": "execute_result"
    }
   ],
   "source": [
    "item.name = \"mug\"\n",
    "item.name"
   ]
  }
 ],
 "metadata": {
  "kernelspec": {
   "display_name": "Python 3",
   "language": "python",
   "name": "python3"
  },
  "language_info": {
   "codemirror_mode": {
    "name": "ipython",
    "version": 3
   },
   "file_extension": ".py",
   "mimetype": "text/x-python",
   "name": "python",
   "nbconvert_exporter": "python",
   "pygments_lexer": "ipython3",
   "version": "3.9.6"
  },
  "orig_nbformat": 4
 },
 "nbformat": 4,
 "nbformat_minor": 2
}
