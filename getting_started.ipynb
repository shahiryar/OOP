{
 "cells": [
  {
   "cell_type": "code",
   "execution_count": 1,
   "metadata": {},
   "outputs": [
    {
     "name": "stdout",
     "output_type": "stream",
     "text": [
      "<class 'str'>\n",
      "<class 'int'>\n"
     ]
    }
   ],
   "source": [
    "print(type('item'))\n",
    "print(type(12))"
   ]
  },
  {
   "attachments": {},
   "cell_type": "markdown",
   "metadata": {},
   "source": [
    "# Creating a Class"
   ]
  },
  {
   "cell_type": "code",
   "execution_count": 2,
   "metadata": {},
   "outputs": [],
   "source": [
    "class Item:\n",
    "    pass"
   ]
  },
  {
   "cell_type": "code",
   "execution_count": 3,
   "metadata": {},
   "outputs": [],
   "source": [
    "item1 = Item()"
   ]
  },
  {
   "cell_type": "code",
   "execution_count": 4,
   "metadata": {},
   "outputs": [
    {
     "data": {
      "text/plain": [
       "__main__.Item"
      ]
     },
     "execution_count": 4,
     "metadata": {},
     "output_type": "execute_result"
    }
   ],
   "source": [
    "type(item1)"
   ]
  },
  {
   "cell_type": "code",
   "execution_count": 5,
   "metadata": {},
   "outputs": [],
   "source": [
    "# giving a class instance an attribute\n",
    "item1.name=\"Watch\"\n",
    "item1.price=\"100\""
   ]
  },
  {
   "cell_type": "code",
   "execution_count": 9,
   "metadata": {},
   "outputs": [
    {
     "name": "stdout",
     "output_type": "stream",
     "text": [
      "<__main__.Item object at 0x106344370>\n",
      "Watch\n"
     ]
    },
    {
     "ename": "AttributeError",
     "evalue": "'Item' object has no attribute 'name'",
     "output_type": "error",
     "traceback": [
      "\u001b[0;31m---------------------------------------------------------------------------\u001b[0m",
      "\u001b[0;31mAttributeError\u001b[0m                            Traceback (most recent call last)",
      "Cell \u001b[0;32mIn[9], line 5\u001b[0m\n\u001b[1;32m      2\u001b[0m \u001b[39mprint\u001b[39m(item1\u001b[39m.\u001b[39mname)\n\u001b[1;32m      4\u001b[0m item2 \u001b[39m=\u001b[39mItem()\n\u001b[0;32m----> 5\u001b[0m \u001b[39mprint\u001b[39m(item2\u001b[39m.\u001b[39;49mname)\n",
      "\u001b[0;31mAttributeError\u001b[0m: 'Item' object has no attribute 'name'"
     ]
    }
   ],
   "source": [
    "print(item1)\n",
    "print(item1.name)\n",
    "\n",
    "item2 =Item()\n",
    "print(item2.name)"
   ]
  },
  {
   "attachments": {},
   "cell_type": "markdown",
   "metadata": {},
   "source": [
    "- Adding methods to a class\n",
    "- when a method is called on an instance, python always passes the instance of the class itself as the first argument, conventionally `self` is used as the first parameter to the method to take that instance"
   ]
  },
  {
   "cell_type": "code",
   "execution_count": 17,
   "metadata": {},
   "outputs": [],
   "source": [
    "class Item:\n",
    "    def calculate_total_price(self, price, quantity):\n",
    "        return(price*quantity)\n"
   ]
  },
  {
   "cell_type": "code",
   "execution_count": 18,
   "metadata": {},
   "outputs": [
    {
     "data": {
      "text/plain": [
       "1000"
      ]
     },
     "execution_count": 18,
     "metadata": {},
     "output_type": "execute_result"
    }
   ],
   "source": [
    "item3 = Item()\n",
    "item3.price = 100\n",
    "item3.quantity = 10\n",
    "item3.calculate_total_price(item3.price, item3.quantity)"
   ]
  },
  {
   "attachments": {},
   "cell_type": "markdown",
   "metadata": {},
   "source": [
    "- Constructors\n",
    "- `__init__` is one of the Magic Methods that acts a the constructor of the class"
   ]
  },
  {
   "cell_type": "code",
   "execution_count": 21,
   "metadata": {},
   "outputs": [],
   "source": [
    "class Item:\n",
    "    def __init__(self, name, price, quantity):\n",
    "        self.name = name\n",
    "        self.price = price\n",
    "        self.quantity = quantity\n",
    "    def calculate_total_price(self):\n",
    "        return(self.price*self.quantity)"
   ]
  },
  {
   "cell_type": "code",
   "execution_count": 22,
   "metadata": {},
   "outputs": [
    {
     "data": {
      "text/plain": [
       "900"
      ]
     },
     "execution_count": 22,
     "metadata": {},
     "output_type": "execute_result"
    }
   ],
   "source": [
    "item4 = Item(\"Phone\", 300, 3)\n",
    "item4.calculate_total_price()"
   ]
  },
  {
   "attachments": {},
   "cell_type": "markdown",
   "metadata": {},
   "source": [
    "- Valdating datatypes while desiging parameters"
   ]
  },
  {
   "cell_type": "code",
   "execution_count": 23,
   "metadata": {},
   "outputs": [],
   "source": [
    "def calculate_total_price(name: str, price:int, quantity:int):\n",
    "    print(\"Total price of {name} is {total}\".format(name=name, total=price*quantity))"
   ]
  },
  {
   "cell_type": "code",
   "execution_count": 25,
   "metadata": {},
   "outputs": [
    {
     "name": "stdout",
     "output_type": "stream",
     "text": [
      "Total price of laptop is 200\n"
     ]
    }
   ],
   "source": [
    "calculate_total_price(\"laptop\", 100, 2)"
   ]
  },
  {
   "attachments": {},
   "cell_type": "markdown",
   "metadata": {},
   "source": [
    "- adding assertions"
   ]
  },
  {
   "cell_type": "code",
   "execution_count": 36,
   "metadata": {},
   "outputs": [],
   "source": [
    "def calculate_total_price(name: str, price:int, quantity:int):\n",
    "    #validating that price is greater than equal to 0 and quantity greater than 0\n",
    "    assertion_message = f\"Either the quantity passs {quantity} is <0 or the price passed {price} <=0\"\n",
    "    assert price>=0 and quantity>0, assertion_message\n",
    "    print(\"Total price of {name} is {total}\".format(name=name, total=price*quantity))"
   ]
  },
  {
   "cell_type": "code",
   "execution_count": 37,
   "metadata": {},
   "outputs": [
    {
     "ename": "AssertionError",
     "evalue": "Either the quantity passs 0 is <0 or the price passed 100 <=0",
     "output_type": "error",
     "traceback": [
      "\u001b[0;31m---------------------------------------------------------------------------\u001b[0m",
      "\u001b[0;31mAssertionError\u001b[0m                            Traceback (most recent call last)",
      "Cell \u001b[0;32mIn[37], line 1\u001b[0m\n\u001b[0;32m----> 1\u001b[0m calculate_total_price(\u001b[39m\"\u001b[39;49m\u001b[39mlaptop\u001b[39;49m\u001b[39m\"\u001b[39;49m, \u001b[39m100\u001b[39;49m, \u001b[39m0\u001b[39;49m)\n",
      "Cell \u001b[0;32mIn[36], line 4\u001b[0m, in \u001b[0;36mcalculate_total_price\u001b[0;34m(name, price, quantity)\u001b[0m\n\u001b[1;32m      1\u001b[0m \u001b[39mdef\u001b[39;00m \u001b[39mcalculate_total_price\u001b[39m(name: \u001b[39mstr\u001b[39m, price:\u001b[39mint\u001b[39m, quantity:\u001b[39mint\u001b[39m):\n\u001b[1;32m      2\u001b[0m     \u001b[39m#validating that price is greater than equal to 0 and quantity greater than 0\u001b[39;00m\n\u001b[1;32m      3\u001b[0m     assertion_message \u001b[39m=\u001b[39m \u001b[39mf\u001b[39m\u001b[39m\"\u001b[39m\u001b[39mEither the quantity passs \u001b[39m\u001b[39m{\u001b[39;00mquantity\u001b[39m}\u001b[39;00m\u001b[39m is <0 or the price passed \u001b[39m\u001b[39m{\u001b[39;00mprice\u001b[39m}\u001b[39;00m\u001b[39m <=0\u001b[39m\u001b[39m\"\u001b[39m\n\u001b[0;32m----> 4\u001b[0m     \u001b[39massert\u001b[39;00m price\u001b[39m>\u001b[39m\u001b[39m=\u001b[39m\u001b[39m0\u001b[39m \u001b[39mand\u001b[39;00m quantity\u001b[39m>\u001b[39m\u001b[39m0\u001b[39m, assertion_message\n\u001b[1;32m      5\u001b[0m     \u001b[39mprint\u001b[39m(\u001b[39m\"\u001b[39m\u001b[39mTotal price of \u001b[39m\u001b[39m{name}\u001b[39;00m\u001b[39m is \u001b[39m\u001b[39m{total}\u001b[39;00m\u001b[39m\"\u001b[39m\u001b[39m.\u001b[39mformat(name\u001b[39m=\u001b[39mname, total\u001b[39m=\u001b[39mprice\u001b[39m*\u001b[39mquantity))\n",
      "\u001b[0;31mAssertionError\u001b[0m: Either the quantity passs 0 is <0 or the price passed 100 <=0"
     ]
    }
   ],
   "source": [
    "calculate_total_price(\"laptop\", 100, 0)"
   ]
  },
  {
   "attachments": {},
   "cell_type": "markdown",
   "metadata": {},
   "source": [
    "- **GLOBAL Attributes**\n",
    "    - Global Attributes, know as the \"Class Attributes\" in python, are the attributes shared accross all the instances of a class\n",
    "    - Class Attributes are accessable at both Class level as well as the instance level\n",
    "    - python first looks for an attribute at the instance level and and on not finding it there it moves to the class level, this way a class attribute can be accessed from the instance. Although, it must be noted that the instance level itself does not contain the class attribute.\n",
    "- All the attributes of a class or an instance could be accessed through the magic attribute `__dict__`"
   ]
  },
  {
   "cell_type": "code",
   "execution_count": 48,
   "metadata": {},
   "outputs": [],
   "source": [
    "class Item:\n",
    "    # class attibutes\n",
    "    flat_discount = 0.1\n",
    "\n",
    "    def __init__(self, name: str, price: int, quantity: int):\n",
    "        assertion_message = f\"Either the quantity passs {quantity} is <0 or the price passed {price} <=0\"\n",
    "        assert price>=0 or quantity>0, assertion_message       \n",
    "        self.name = name\n",
    "        self.price = price\n",
    "        self.quantity = quantity\n",
    "    def calculate_total_price(self):\n",
    "        return(self.price*self.quantity)\n",
    "    \n",
    "    def apply_discount(self):\n",
    "        self.price = self.price - self.price * Item.flat_discount"
   ]
  },
  {
   "cell_type": "code",
   "execution_count": 50,
   "metadata": {},
   "outputs": [
    {
     "name": "stdout",
     "output_type": "stream",
     "text": [
      "Class level: {'__module__': '__main__', 'flat_discount': 0.1, '__init__': <function Item.__init__ at 0x107237700>, 'calculate_total_price': <function Item.calculate_total_price at 0x107237940>, 'apply_discount': <function Item.apply_discount at 0x107237ca0>, '__dict__': <attribute '__dict__' of 'Item' objects>, '__weakref__': <attribute '__weakref__' of 'Item' objects>, '__doc__': None}\n",
      "instance level: {'name': 'Cup', 'price': 10, 'quantity': 100}\n",
      "Discount offered on all Items: 10.0%\n",
      "price of Cup after discount: $9.0\n"
     ]
    }
   ],
   "source": [
    "item6 = Item(\"Cup\", 10, 100)\n",
    "\n",
    "print(f\"Class level: {Item.__dict__}\")\n",
    "print(f\"instance level: {item6.__dict__}\")\n",
    "\n",
    "print(f\"Discount offered on all Items: {item6.flat_discount*100}%\")\n",
    "\n",
    "item6.apply_discount()\n",
    "print(f\"price of {item6.name} after discount: ${item6.price}\")"
   ]
  },
  {
   "attachments": {},
   "cell_type": "markdown",
   "metadata": {},
   "source": [
    "- note how the class attribute `flat_discount` is present at the class level but not at the instance level but still `flat_discount` can be accessed by the instance\n",
    "- an instance could have it's own attribute with the same name as the class attribute"
   ]
  },
  {
   "cell_type": "code",
   "execution_count": 51,
   "metadata": {},
   "outputs": [
    {
     "name": "stdout",
     "output_type": "stream",
     "text": [
      "Discount offered on all Items: 10.0%\n",
      "Discount offered only on Cup: 5.0%\n"
     ]
    }
   ],
   "source": [
    "item6 = Item(\"Cup\", 10, 100)\n",
    "item6.flat_discount = 0.05\n",
    "\n",
    "print(f\"Discount offered on all Items: {Item.flat_discount*100}%\")\n",
    "print(f\"Discount offered only on {item6.name}: {item6.flat_discount*100}%\")"
   ]
  },
  {
   "attachments": {},
   "cell_type": "markdown",
   "metadata": {},
   "source": [
    "- Changing the representation of a class using the magic method `__repr__`"
   ]
  },
  {
   "cell_type": "code",
   "execution_count": 53,
   "metadata": {},
   "outputs": [],
   "source": [
    "class Item:\n",
    "    # class attibutes\n",
    "    flat_discount = 0.1\n",
    "    all = []\n",
    "\n",
    "    def __init__(self, name: str, price: int, quantity: int):\n",
    "\n",
    "        assertion_message = f\"Either the quantity passs {quantity} is <0 or the price passed {price} <=0\"\n",
    "        assert price>=0 or quantity>0, assertion_message     \n",
    "\n",
    "        self.name = name\n",
    "        self.price = price\n",
    "        self.quantity = quantity\n",
    "\n",
    "        Item.all.append(self)\n",
    "\n",
    "    def calculate_total_price(self):\n",
    "        return(self.price*self.quantity)\n",
    "    \n",
    "    def apply_discount(self):\n",
    "        self.price = self.price - self.price * Item.flat_discount\n",
    "    \n",
    "    def __repr__(self):\n",
    "        return f\"Item('{self.name}', {self.price}, {self.quantity})\""
   ]
  },
  {
   "cell_type": "code",
   "execution_count": 54,
   "metadata": {},
   "outputs": [
    {
     "name": "stdout",
     "output_type": "stream",
     "text": [
      "Item('Blade', 500, 20)\n"
     ]
    }
   ],
   "source": [
    "item7 = Item(\"Blade\", 500, 20)\n",
    "\n",
    "print(item7)"
   ]
  },
  {
   "attachments": {},
   "cell_type": "markdown",
   "metadata": {},
   "source": [
    "- Creating a Class Method using the **decorator** `@classmethod`"
   ]
  },
  {
   "cell_type": "code",
   "execution_count": 72,
   "metadata": {},
   "outputs": [],
   "source": [
    "import csv\n",
    "\n",
    "class Item:\n",
    "    # class attibutes\n",
    "    flat_discount = 0.1\n",
    "    all = []\n",
    "\n",
    "    def __init__(self, name: str, price: int, quantity: int):\n",
    "\n",
    "        assertion_message = f\"Either the quantity passs {quantity} is <0 or the price passed {price} <=0\"\n",
    "        assert price>=0 or quantity>0, assertion_message     \n",
    "\n",
    "        self.name = name\n",
    "        self.price = price\n",
    "        self.quantity = quantity\n",
    "\n",
    "        Item.all.append(self)\n",
    "\n",
    "    def calculate_total_price(self):\n",
    "        return(self.price*self.quantity)\n",
    "    \n",
    "    def apply_discount(self):\n",
    "        self.price = self.price - self.price * Item.flat_discount\n",
    "    \n",
    "    def __repr__(self):\n",
    "        return f\"Item('{self.name}', {self.price}, {self.quantity})\"\n",
    "    \n",
    "    @classmethod\n",
    "    def update_flat_discount(cls, new_discount):\n",
    "        cls.flat_discount = new_discount\n",
    "\n",
    "    @classmethod\n",
    "    def instanciate_from_csv(cls, path):\n",
    "        with open(path , 'r') as csv_file:\n",
    "            reader = csv.DictReader(csv_file)\n",
    "            items = list(reader)\n",
    "\n",
    "            for item in items:\n",
    "                Item(\n",
    "                    name=str(item[\"name\"]),\n",
    "                    price=int(item['price']),\n",
    "                    quantity=int(item['quantity'])\n",
    "                )"
   ]
  },
  {
   "cell_type": "code",
   "execution_count": 73,
   "metadata": {},
   "outputs": [
    {
     "name": "stdout",
     "output_type": "stream",
     "text": [
      "0.1\n",
      "0.2\n"
     ]
    }
   ],
   "source": [
    "print(Item.flat_discount)\n",
    "\n",
    "Item.update_flat_discount(0.2)\n",
    "\n",
    "print(Item.flat_discount)"
   ]
  },
  {
   "cell_type": "code",
   "execution_count": 74,
   "metadata": {},
   "outputs": [
    {
     "data": {
      "text/plain": [
       "[Item('cup', 10, 100),\n",
       " Item('phone', 500, 4),\n",
       " Item('blade', 200, 20),\n",
       " Item('fan', 150, 10)]"
      ]
     },
     "execution_count": 74,
     "metadata": {},
     "output_type": "execute_result"
    }
   ],
   "source": [
    "Item.instanciate_from_csv(\"./dummy_items.csv\")\n",
    "Item.all"
   ]
  },
  {
   "attachments": {},
   "cell_type": "markdown",
   "metadata": {},
   "source": [
    "- Static Methods in a class using the **decorator** `@staticmethod`\n",
    "    - Static Methods do not receive any argument from python, neither the `self` not the `cls`"
   ]
  },
  {
   "cell_type": "code",
   "execution_count": null,
   "metadata": {},
   "outputs": [],
   "source": [
    "import csv\n",
    "\n",
    "class Item:\n",
    "    # class attibutes\n",
    "    flat_discount = 0.1\n",
    "    all = []\n",
    "\n",
    "    def __init__(self, name: str, price: int, quantity: int):\n",
    "\n",
    "        assertion_message = f\"Either the quantity passs {quantity} is <0 or the price passed {price} <=0\"\n",
    "        assert price>=0 or quantity>0, assertion_message     \n",
    "\n",
    "        self.name = name\n",
    "        self.price = price\n",
    "        self.quantity = quantity\n",
    "\n",
    "        Item.all.append(self)\n",
    "\n",
    "    def calculate_total_price(self):\n",
    "        return(self.price*self.quantity)\n",
    "    \n",
    "    def apply_discount(self):\n",
    "        self.price = self.price - self.price * Item.flat_discount\n",
    "    \n",
    "    def __repr__(self):\n",
    "        return f\"Item('{self.name}', {self.price}, {self.quantity})\"\n",
    "    \n",
    "    @classmethod\n",
    "    def update_flat_discount(cls, new_discount):\n",
    "        cls.flat_discount = new_discount\n",
    "\n",
    "    @classmethod\n",
    "    def instanciate_from_csv(cls, path):\n",
    "        with open(path , 'r') as csv_file:\n",
    "            reader = csv.DictReader(csv_file)\n",
    "            items = list(reader)\n",
    "\n",
    "            for item in items:\n",
    "                Item(\n",
    "                    name=str(item[\"name\"]),\n",
    "                    price=int(item['price']),\n",
    "                    quantity=int(item['quantity'])\n",
    "                )\n",
    "    \n",
    "    @staticmethod\n",
    "    def is_integer(number):\n",
    "        if isinstance(number, float)"
   ]
  }
 ],
 "metadata": {
  "kernelspec": {
   "display_name": "Python 3",
   "language": "python",
   "name": "python3"
  },
  "language_info": {
   "codemirror_mode": {
    "name": "ipython",
    "version": 3
   },
   "file_extension": ".py",
   "mimetype": "text/x-python",
   "name": "python",
   "nbconvert_exporter": "python",
   "pygments_lexer": "ipython3",
   "version": "3.9.6"
  },
  "orig_nbformat": 4
 },
 "nbformat": 4,
 "nbformat_minor": 2
}
